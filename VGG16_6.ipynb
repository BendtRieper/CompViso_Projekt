{
 "cells": [
  {
   "cell_type": "code",
   "execution_count": 1,
   "metadata": {},
   "outputs": [
    {
     "name": "stderr",
     "output_type": "stream",
     "text": [
      "2024-01-27 18:03:53.414554: E external/local_xla/xla/stream_executor/cuda/cuda_dnn.cc:9261] Unable to register cuDNN factory: Attempting to register factory for plugin cuDNN when one has already been registered\n",
      "2024-01-27 18:03:53.414588: E external/local_xla/xla/stream_executor/cuda/cuda_fft.cc:607] Unable to register cuFFT factory: Attempting to register factory for plugin cuFFT when one has already been registered\n",
      "2024-01-27 18:03:53.452061: E external/local_xla/xla/stream_executor/cuda/cuda_blas.cc:1515] Unable to register cuBLAS factory: Attempting to register factory for plugin cuBLAS when one has already been registered\n",
      "2024-01-27 18:03:53.534417: I tensorflow/core/platform/cpu_feature_guard.cc:182] This TensorFlow binary is optimized to use available CPU instructions in performance-critical operations.\n",
      "To enable the following instructions: AVX2 FMA, in other operations, rebuild TensorFlow with the appropriate compiler flags.\n",
      "2024-01-27 18:03:54.276151: W tensorflow/compiler/tf2tensorrt/utils/py_utils.cc:38] TF-TRT Warning: Could not find TensorRT\n"
     ]
    }
   ],
   "source": [
    "import tensorflow as tf\n",
    "from tensorflow.keras.applications import VGG16\n",
    "from tensorflow.keras import models, layers\n",
    "import splitfolders\n",
    "from tensorflow.keras.preprocessing.image import ImageDataGenerator\n",
    "from tensorflow.keras.applications import VGG16\n",
    "from tensorflow.keras import models, layers\n",
    "from keras.optimizers import Adam\n",
    "from keras.optimizers.experimental import Nadam, SGD\n",
    "from keras.callbacks import EarlyStopping\n",
    "import matplotlib.pyplot as plt\n",
    "import numpy as np\n",
    "import os"
   ]
  },
  {
   "cell_type": "code",
   "execution_count": 2,
   "metadata": {},
   "outputs": [
    {
     "name": "stderr",
     "output_type": "stream",
     "text": [
      "Copying files: 31852 files [00:00, 35724.06 files/s]\n"
     ]
    },
    {
     "name": "stdout",
     "output_type": "stream",
     "text": [
      "Found 25442 images belonging to 8 classes.\n",
      "Found 6365 images belonging to 8 classes.\n"
     ]
    }
   ],
   "source": [
    "input_folder = './ASL_unique/'\n",
    "output_folder = './sorted_VGG16unique4k'\n",
    "\n",
    "splitfolders.ratio(input_folder, output=output_folder, seed=42, ratio=(0.8, 0.2), group_prefix=None)\n",
    "\n",
    "\n",
    "target_size = (200, 200)\n",
    "\n",
    "\n",
    "train_datagen = ImageDataGenerator(rescale=1./255)\n",
    "val_datagen = ImageDataGenerator(rescale=1./255)\n",
    "test_datagen = ImageDataGenerator(rescale=1./255)\n",
    "\n",
    "train_generator = train_datagen.flow_from_directory(\n",
    "    output_folder + '/train',\n",
    "    target_size=target_size,\n",
    "    batch_size=32,\n",
    "    class_mode='categorical'\n",
    ")\n",
    "\n",
    "val_generator = val_datagen.flow_from_directory(\n",
    "    output_folder + '/val',\n",
    "    target_size=target_size,\n",
    "    batch_size=32,\n",
    "    class_mode='categorical'\n",
    ")\n"
   ]
  },
  {
   "cell_type": "code",
   "execution_count": 3,
   "metadata": {},
   "outputs": [
    {
     "name": "stdout",
     "output_type": "stream",
     "text": [
      "Found 7200 images belonging to 8 classes.\n"
     ]
    }
   ],
   "source": [
    "input_folder = './ASL_test'\n",
    "\n",
    "test_datagen = ImageDataGenerator(rescale=1./255)\n",
    "\n",
    "test_generator = test_datagen.flow_from_directory(\n",
    "    input_folder,\n",
    "    target_size=(200, 200),\n",
    "    batch_size=32,\n",
    "    class_mode='categorical',\n",
    "    shuffle = False\n",
    ")"
   ]
  },
  {
   "cell_type": "code",
   "execution_count": 4,
   "metadata": {},
   "outputs": [
    {
     "name": "stderr",
     "output_type": "stream",
     "text": [
      "2024-01-27 18:03:58.484188: I external/local_xla/xla/stream_executor/cuda/cuda_executor.cc:887] could not open file to read NUMA node: /sys/bus/pci/devices/0000:01:00.0/numa_node\n",
      "Your kernel may have been built without NUMA support.\n",
      "2024-01-27 18:03:58.608332: I external/local_xla/xla/stream_executor/cuda/cuda_executor.cc:887] could not open file to read NUMA node: /sys/bus/pci/devices/0000:01:00.0/numa_node\n",
      "Your kernel may have been built without NUMA support.\n",
      "2024-01-27 18:03:58.608370: I external/local_xla/xla/stream_executor/cuda/cuda_executor.cc:887] could not open file to read NUMA node: /sys/bus/pci/devices/0000:01:00.0/numa_node\n",
      "Your kernel may have been built without NUMA support.\n",
      "2024-01-27 18:03:58.610048: I external/local_xla/xla/stream_executor/cuda/cuda_executor.cc:887] could not open file to read NUMA node: /sys/bus/pci/devices/0000:01:00.0/numa_node\n",
      "Your kernel may have been built without NUMA support.\n",
      "2024-01-27 18:03:58.610079: I external/local_xla/xla/stream_executor/cuda/cuda_executor.cc:887] could not open file to read NUMA node: /sys/bus/pci/devices/0000:01:00.0/numa_node\n",
      "Your kernel may have been built without NUMA support.\n",
      "2024-01-27 18:03:58.610095: I external/local_xla/xla/stream_executor/cuda/cuda_executor.cc:887] could not open file to read NUMA node: /sys/bus/pci/devices/0000:01:00.0/numa_node\n",
      "Your kernel may have been built without NUMA support.\n",
      "2024-01-27 18:03:58.992637: I external/local_xla/xla/stream_executor/cuda/cuda_executor.cc:887] could not open file to read NUMA node: /sys/bus/pci/devices/0000:01:00.0/numa_node\n",
      "Your kernel may have been built without NUMA support.\n",
      "2024-01-27 18:03:58.992674: I external/local_xla/xla/stream_executor/cuda/cuda_executor.cc:887] could not open file to read NUMA node: /sys/bus/pci/devices/0000:01:00.0/numa_node\n",
      "Your kernel may have been built without NUMA support.\n",
      "2024-01-27 18:03:58.992678: I tensorflow/core/common_runtime/gpu/gpu_device.cc:2022] Could not identify NUMA node of platform GPU id 0, defaulting to 0.  Your kernel may not have been built with NUMA support.\n",
      "2024-01-27 18:03:58.992700: I external/local_xla/xla/stream_executor/cuda/cuda_executor.cc:887] could not open file to read NUMA node: /sys/bus/pci/devices/0000:01:00.0/numa_node\n",
      "Your kernel may have been built without NUMA support.\n",
      "2024-01-27 18:03:58.992715: I tensorflow/core/common_runtime/gpu/gpu_device.cc:1929] Created device /job:localhost/replica:0/task:0/device:GPU:0 with 5606 MB memory:  -> device: 0, name: NVIDIA GeForce RTX 3060 Ti, pci bus id: 0000:01:00.0, compute capability: 8.6\n"
     ]
    },
    {
     "name": "stdout",
     "output_type": "stream",
     "text": [
      "Model: \"sequential\"\n",
      "_________________________________________________________________\n",
      " Layer (type)                Output Shape              Param #   \n",
      "=================================================================\n",
      " vgg16 (Functional)          (None, 6, 6, 512)         14714688  \n",
      "                                                                 \n",
      " max_pooling2d (MaxPooling2  (None, 3, 3, 512)         0         \n",
      " D)                                                              \n",
      "                                                                 \n",
      " flatten (Flatten)           (None, 4608)              0         \n",
      "                                                                 \n",
      " dense (Dense)               (None, 256)               1179904   \n",
      "                                                                 \n",
      " dropout (Dropout)           (None, 256)               0         \n",
      "                                                                 \n",
      " dense_1 (Dense)             (None, 8)                 2056      \n",
      "                                                                 \n",
      "=================================================================\n",
      "Total params: 15896648 (60.64 MB)\n",
      "Trainable params: 15896648 (60.64 MB)\n",
      "Non-trainable params: 0 (0.00 Byte)\n",
      "_________________________________________________________________\n",
      "Epoch 1/25\n"
     ]
    },
    {
     "name": "stderr",
     "output_type": "stream",
     "text": [
      "2024-01-27 18:04:00.209744: I external/local_xla/xla/stream_executor/cuda/cuda_dnn.cc:454] Loaded cuDNN version 8904\n",
      "2024-01-27 18:04:02.400700: I external/local_xla/xla/service/service.cc:168] XLA service 0x7f91e91539a0 initialized for platform CUDA (this does not guarantee that XLA will be used). Devices:\n",
      "2024-01-27 18:04:02.400722: I external/local_xla/xla/service/service.cc:176]   StreamExecutor device (0): NVIDIA GeForce RTX 3060 Ti, Compute Capability 8.6\n",
      "WARNING: All log messages before absl::InitializeLog() is called are written to STDERR\n",
      "I0000 00:00:1706375042.440089   82588 device_compiler.h:186] Compiled cluster using XLA!  This line is logged at most once for the lifetime of the process.\n"
     ]
    },
    {
     "name": "stdout",
     "output_type": "stream",
     "text": [
      "796/796 [==============================] - 230s 264ms/step - loss: 0.6252 - accuracy: 0.7774 - val_loss: 0.0872 - val_accuracy: 0.9755\n",
      "Epoch 2/25\n",
      "796/796 [==============================] - 203s 254ms/step - loss: 0.1031 - accuracy: 0.9675 - val_loss: 0.0342 - val_accuracy: 0.9904\n",
      "Epoch 3/25\n",
      "796/796 [==============================] - 208s 262ms/step - loss: 0.0508 - accuracy: 0.9829 - val_loss: 0.0212 - val_accuracy: 0.9940\n",
      "Epoch 4/25\n",
      "796/796 [==============================] - 208s 261ms/step - loss: 0.0305 - accuracy: 0.9910 - val_loss: 0.0154 - val_accuracy: 0.9959\n",
      "Epoch 5/25\n",
      "796/796 [==============================] - 200s 251ms/step - loss: 0.0172 - accuracy: 0.9952 - val_loss: 0.0093 - val_accuracy: 0.9976\n",
      "Epoch 6/25\n",
      "796/796 [==============================] - 199s 250ms/step - loss: 0.0138 - accuracy: 0.9958 - val_loss: 0.0137 - val_accuracy: 0.9961\n",
      "Epoch 7/25\n",
      "796/796 [==============================] - 207s 261ms/step - loss: 0.0123 - accuracy: 0.9965 - val_loss: 0.0185 - val_accuracy: 0.9943\n",
      "Epoch 8/25\n",
      "796/796 [==============================] - 235s 295ms/step - loss: 0.0097 - accuracy: 0.9974 - val_loss: 0.0080 - val_accuracy: 0.9978\n",
      "Epoch 9/25\n",
      "796/796 [==============================] - 233s 293ms/step - loss: 0.0073 - accuracy: 0.9981 - val_loss: 0.0083 - val_accuracy: 0.9980\n",
      "Epoch 10/25\n",
      "796/796 [==============================] - 225s 283ms/step - loss: 0.0061 - accuracy: 0.9986 - val_loss: 0.0065 - val_accuracy: 0.9983\n",
      "Epoch 11/25\n",
      "796/796 [==============================] - 228s 287ms/step - loss: 0.0046 - accuracy: 0.9985 - val_loss: 0.0077 - val_accuracy: 0.9978\n",
      "Epoch 12/25\n",
      "796/796 [==============================] - 240s 301ms/step - loss: 0.0040 - accuracy: 0.9990 - val_loss: 0.0064 - val_accuracy: 0.9984\n",
      "Epoch 13/25\n",
      "796/796 [==============================] - 222s 279ms/step - loss: 0.0052 - accuracy: 0.9986 - val_loss: 0.0067 - val_accuracy: 0.9980\n",
      "Epoch 14/25\n",
      "796/796 [==============================] - 201s 252ms/step - loss: 0.0032 - accuracy: 0.9989 - val_loss: 0.0071 - val_accuracy: 0.9983\n",
      "Epoch 15/25\n",
      "796/796 [==============================] - 201s 252ms/step - loss: 0.0032 - accuracy: 0.9991 - val_loss: 0.0054 - val_accuracy: 0.9987\n",
      "Epoch 16/25\n",
      "796/796 [==============================] - 201s 252ms/step - loss: 0.0035 - accuracy: 0.9989 - val_loss: 0.0059 - val_accuracy: 0.9978\n",
      "Epoch 17/25\n",
      "796/796 [==============================] - 202s 254ms/step - loss: 0.0036 - accuracy: 0.9987 - val_loss: 0.0064 - val_accuracy: 0.9984\n",
      "Epoch 18/25\n",
      "796/796 [==============================] - 196s 246ms/step - loss: 0.0021 - accuracy: 0.9996 - val_loss: 0.0057 - val_accuracy: 0.9986\n",
      "Epoch 19/25\n",
      "796/796 [==============================] - 193s 243ms/step - loss: 0.0026 - accuracy: 0.9993 - val_loss: 0.0052 - val_accuracy: 0.9991\n",
      "Epoch 20/25\n",
      "796/796 [==============================] - 193s 242ms/step - loss: 0.0024 - accuracy: 0.9992 - val_loss: 0.0047 - val_accuracy: 0.9984\n",
      "Epoch 21/25\n",
      "796/796 [==============================] - 192s 241ms/step - loss: 0.0018 - accuracy: 0.9997 - val_loss: 0.0070 - val_accuracy: 0.9986\n",
      "Epoch 22/25\n",
      "796/796 [==============================] - 193s 242ms/step - loss: 0.0020 - accuracy: 0.9994 - val_loss: 0.0056 - val_accuracy: 0.9980\n",
      "Epoch 23/25\n",
      "796/796 [==============================] - 197s 248ms/step - loss: 0.0015 - accuracy: 0.9997 - val_loss: 0.0053 - val_accuracy: 0.9986\n",
      "Epoch 24/25\n",
      "796/796 [==============================] - 201s 253ms/step - loss: 0.0013 - accuracy: 0.9996 - val_loss: 0.0079 - val_accuracy: 0.9987\n",
      "Epoch 25/25\n",
      "796/796 [==============================] - 201s 252ms/step - loss: 9.1830e-04 - accuracy: 0.9998 - val_loss: 0.0066 - val_accuracy: 0.9989\n"
     ]
    },
    {
     "data": {
      "image/png": "[encoded data removed]",
      "text/plain": [
       "<Figure size 1200x600 with 2 Axes>"
      ]
     },
     "metadata": {},
     "output_type": "display_data"
    },
    {
     "name": "stdout",
     "output_type": "stream",
     "text": [
      "225/225 [==============================] - 39s 174ms/step - loss: 1.8937 - accuracy: 0.6875\n",
      "Test Loss: 1.8937\n",
      "Test Accuracy: 68.75%\n"
     ]
    }
   ],
   "source": [
    "vgg_model = VGG16(weights='imagenet', include_top=False, input_shape=(target_size[0], target_size[1], 3))\n",
    "\n",
    "# Schritt 4: Fügen Sie dem VGG16-Modell einen benutzerdefinierten Klassifikator hinzu\n",
    "model = models.Sequential()\n",
    "model.add(vgg_model)\n",
    "model.add(layers.MaxPooling2D((2, 2)))\n",
    "model.add(layers.Flatten())\n",
    "model.add(layers.Dense(256, activation='relu'))\n",
    "model.add(layers.Dropout(0.5))\n",
    "model.add(layers.Dense(8, activation='softmax'))  # Ändern Sie dies entsprechend der Anzahl Ihrer Klassen\n",
    "\n",
    "# Schritt 5: Kompilieren Sie das Modell\n",
    "model.compile(optimizer=SGD(learning_rate=0.001), loss='categorical_crossentropy', metrics=['accuracy'])\n",
    "model.summary()\n",
    "early_stop = EarlyStopping(monitor='val_loss', patience=3, restore_best_weights=True)\n",
    "\n",
    "history = model.fit(train_generator, epochs=25, validation_data=val_generator)\n",
    "# Schritt 7: Bewerten Sie das Modell auf dem Testset\n",
    "# Plot Loss über die Zeit\n",
    "plt.figure(figsize=(12, 6))\n",
    "\n",
    "plt.subplot(1, 2, 1)\n",
    "plt.plot(history.history['loss'], label='Training Loss')\n",
    "plt.plot(history.history['val_loss'], label='Validation Loss')\n",
    "plt.title('Loss over Time')\n",
    "plt.xlabel('Epochs')\n",
    "plt.ylabel('Loss')\n",
    "plt.legend()\n",
    "\n",
    "# Plot Accuracy über die Zeit\n",
    "plt.subplot(1, 2, 2)\n",
    "plt.plot(history.history['accuracy'], label='Training Accuracy')\n",
    "plt.plot(history.history['val_accuracy'], label='Validation Accuracy')\n",
    "plt.title('Accuracy over Time')\n",
    "plt.xlabel('Epochs')\n",
    "plt.ylabel('Accuracy')\n",
    "plt.legend()\n",
    "\n",
    "plt.tight_layout()\n",
    "plt.show() \n",
    "loss, accuracy = model.evaluate(test_generator)\n",
    "print(f'Test Loss: {loss:.4f}')\n",
    "print(f'Test Accuracy: {accuracy * 100:.2f}%')"
   ]
  },
  {
   "cell_type": "code",
   "execution_count": 5,
   "metadata": {},
   "outputs": [
    {
     "name": "stdout",
     "output_type": "stream",
     "text": [
      "225/225 [==============================] - 35s 155ms/step\n"
     ]
    }
   ],
   "source": [
    "save_directory = './Result'\n",
    "os.makedirs(save_directory, exist_ok=True)\n",
    "\n",
    "for _ in range(1):\n",
    "    predictions = model.predict(test_generator)\n",
    "    true_labels = test_generator.classes \n",
    "    incorrect_indices = np.where(np.argmax(predictions, axis=1) != true_labels)[0]\n",
    "\n",
    "    num_samples_to_display = 5\n",
    "    for i in range(min(num_samples_to_display, len(incorrect_indices))):\n",
    "        batch_index = incorrect_indices[i] // test_generator.batch_size\n",
    "        in_batch_index = incorrect_indices[i] % test_generator.batch_size\n",
    "\n",
    "        image = test_generator[batch_index][0][in_batch_index]\n",
    "        true_label = true_labels[incorrect_indices[i]]\n",
    "        predicted_label = np.argmax(predictions[incorrect_indices[i]])\n",
    "\n",
    "        plt.figure(figsize=(8, 8))\n",
    "        plt.imshow(image)\n",
    "        plt.title(f'True Label: {true_label}, Predicted Label: {predicted_label}')\n",
    "\n",
    "        image_filename = f'incorrect_image_{i+1}_true_{true_label}_pred_{predicted_label}.png'\n",
    "        image_path = os.path.join(save_directory, image_filename)\n",
    "        plt.savefig(image_path)\n",
    "\n",
    "        plt.close()"
   ]
  },
  {
   "cell_type": "code",
   "execution_count": 6,
   "metadata": {},
   "outputs": [
    {
     "name": "stdout",
     "output_type": "stream",
     "text": [
      "Class indices in test_generator: {'A': 0, 'B': 1, 'C': 2, 'D': 3, 'E': 4, 'F': 5, 'G': 6, 'H': 7}\n"
     ]
    }
   ],
   "source": [
    "print(\"Class indices in test_generator:\", test_generator.class_indices)\n"
   ]
  },
  {
   "cell_type": "code",
   "execution_count": 7,
   "metadata": {},
   "outputs": [
    {
     "name": "stdout",
     "output_type": "stream",
     "text": [
      "[0 0 0 ... 7 7 7]\n"
     ]
    }
   ],
   "source": [
    "print(true_labels[200:])  # Gib die ersten 10 wahren Labels aus"
   ]
  },
  {
   "cell_type": "code",
   "execution_count": 8,
   "metadata": {},
   "outputs": [
    {
     "name": "stdout",
     "output_type": "stream",
     "text": [
      "Shape of test_generator.labels: (7200,)\n",
      "Sample labels from test_generator: [0 0 0 0 0]\n"
     ]
    }
   ],
   "source": [
    "print(\"Shape of test_generator.labels:\", test_generator.labels.shape)\n",
    "print(\"Sample labels from test_generator:\", test_generator.labels[:5])"
   ]
  },
  {
   "cell_type": "code",
   "execution_count": null,
   "metadata": {},
   "outputs": [],
   "source": []
  }
 ],
 "metadata": {
  "kernelspec": {
   "display_name": "Python 3 (ipykernel)",
   "language": "python",
   "name": "python3"
  },
  "language_info": {
   "codemirror_mode": {
    "name": "ipython",
    "version": 3
   },
   "file_extension": ".py",
   "mimetype": "text/x-python",
   "name": "python",
   "nbconvert_exporter": "python",
   "pygments_lexer": "ipython3",
   "version": "3.11.7"
  }
 },
 "nbformat": 4,
 "nbformat_minor": 4
}
